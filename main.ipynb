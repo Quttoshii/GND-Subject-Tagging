{
  "cells": [
    {
      "cell_type": "code",
      "source": [
        "!pip install transformers datasets -q"
      ],
      "metadata": {
        "id": "UOJPGwItrYef"
      },
      "execution_count": 1,
      "outputs": []
    },
    {
      "cell_type": "code",
      "source": [
        "!pip install rouge"
      ],
      "metadata": {
        "colab": {
          "base_uri": "https://localhost:8080/"
        },
        "id": "EFiJBVs2j5j3",
        "outputId": "f6ecedee-fc9a-4841-8fd7-c8d4f3ad2db4"
      },
      "execution_count": 2,
      "outputs": [
        {
          "output_type": "stream",
          "name": "stdout",
          "text": [
            "Requirement already satisfied: rouge in /usr/local/lib/python3.10/dist-packages (1.0.1)\n",
            "Requirement already satisfied: six in /usr/local/lib/python3.10/dist-packages (from rouge) (1.16.0)\n"
          ]
        }
      ]
    },
    {
      "cell_type": "code",
      "execution_count": null,
      "metadata": {
        "colab": {
          "base_uri": "https://localhost:8080/"
        },
        "id": "TbO9ob7zRguw",
        "outputId": "aa7491a3-8caa-4990-aef9-721b3ebd2120"
      },
      "outputs": [
        {
          "output_type": "stream",
          "name": "stdout",
          "text": [
            "Mounted at /content/drive\n"
          ]
        }
      ],
      "source": [
        "from google.colab import drive\n",
        "drive.mount('/content/drive')"
      ]
    },
    {
      "cell_type": "code",
      "execution_count": 3,
      "metadata": {
        "id": "TLgcqwFGTzsx"
      },
      "outputs": [],
      "source": [
        "import json\n",
        "import os"
      ]
    },
    {
      "cell_type": "code",
      "execution_count": null,
      "metadata": {
        "colab": {
          "base_uri": "https://localhost:8080/"
        },
        "id": "lW6hR5yml1t2",
        "outputId": "d5f8a548-229a-44ef-99db-5719c8c7e5a2"
      },
      "outputs": [
        {
          "output_type": "stream",
          "name": "stdout",
          "text": [
            "/content/drive/MyDrive/nlp_project_data/dev/Article/en\n",
            "/content/drive/MyDrive/nlp_project_data/dev/Book/en\n",
            "/content/drive/MyDrive/nlp_project_data/dev/Conference/en\n",
            "/content/drive/MyDrive/nlp_project_data/dev/Report/en\n",
            "/content/drive/MyDrive/nlp_project_data/dev/Thesis/en\n",
            "Results saved to /content/drive/MyDrive/nlp_project_data/processed_data.json\n"
          ]
        }
      ],
      "source": [
        "import json\n",
        "import os\n",
        "\n",
        "# File paths\n",
        "gnd_subjects_file = \"/content/drive/MyDrive/nlp_project_data/GND-Subjects-all.json\"\n",
        "tibkat_dev_dir = \"/content/drive/MyDrive/nlp_project_data/dev\"\n",
        "\n",
        "# Function to load GND subjects\n",
        "def load_gnd_subjects(file_path):\n",
        "    with open(file_path, 'r', encoding='utf-8') as f:\n",
        "        gnd_data = json.load(f)\n",
        "\n",
        "    # Assuming that 'Code' is the key for subject IDs and 'Name' is the key for subject names\n",
        "    subjects = {item['Code']: item['Name'] for item in gnd_data}\n",
        "\n",
        "    return subjects\n",
        "\n",
        "# Function to extract abstract and subject from a jsonid file\n",
        "def extract_abstract_and_subject(jsonid_file):\n",
        "    with open(jsonid_file, 'r', encoding='utf-8') as f:\n",
        "        data = json.load(f)\n",
        "\n",
        "    data = data.get(\"@graph\", [])[-1]\n",
        "\n",
        "    # Extract the abstract and dcterms:subject (assuming these are the keys)\n",
        "    abstract = data.get('abstract', '')\n",
        "    dcterms_subjects = data.get('dcterms:subject', [])\n",
        "\n",
        "    return abstract, dcterms_subjects\n",
        "\n",
        "# Function to process the TIBKAT dev directory and match subjects\n",
        "def process_tibkat_directory(tibkat_dev_dir, gnd_subjects):\n",
        "    # Dictionary to store file-based results\n",
        "    file_based_results = {}\n",
        "\n",
        "    # Iterate over the directory structure for each category\n",
        "    for category in ['Article', 'Book', 'Conference', 'Report', 'Thesis']:\n",
        "        category_path = os.path.join(tibkat_dev_dir, category, 'en')\n",
        "\n",
        "        if os.path.exists(category_path):\n",
        "            print(category_path)\n",
        "            for file_name in os.listdir(category_path):\n",
        "                if file_name.endswith('.jsonld'):\n",
        "                    jsonid_file = os.path.join(category_path, file_name)\n",
        "\n",
        "                    # Extract the abstract and subjects\n",
        "                    abstract, dcterms_subjects = extract_abstract_and_subject(jsonid_file)\n",
        "\n",
        "                    file_subjects = []\n",
        "                    # Check if any of the dcterms:subject match with GND subjects\n",
        "                    if isinstance(dcterms_subjects, list):\n",
        "                        for subject_id in dcterms_subjects:\n",
        "                            subject = subject_id.get(\"@id\", \"\")\n",
        "                            # Match the subject with GND 'Code'\n",
        "                            if subject in gnd_subjects:\n",
        "                                file_subjects.append(gnd_subjects[subject])  # Append subject name, not ID\n",
        "                    else:\n",
        "                        subject = dcterms_subjects.get(\"@id\", \"\")\n",
        "                        # Match the subject with GND 'Code'\n",
        "                        if subject in gnd_subjects:\n",
        "                            file_subjects.append(gnd_subjects[subject])  # Append subject name, not ID\n",
        "\n",
        "                    file_based_results[os.path.join(category, 'en', file_name)] = {\n",
        "                        'abstract': abstract,\n",
        "                        'subject': file_subjects,\n",
        "                        'category': category\n",
        "                    }\n",
        "\n",
        "    return file_based_results\n",
        "\n",
        "# Load GND subjects\n",
        "gnd_subjects = load_gnd_subjects(gnd_subjects_file)\n",
        "\n",
        "# Process the TIBKAT dev directory to find matching subjects\n",
        "file_based_results = process_tibkat_directory(tibkat_dev_dir, gnd_subjects)\n",
        "\n",
        "# Optionally save the results to a file (uncomment below lines if needed)\n",
        "output_file = \"/content/drive/MyDrive/nlp_project_data/processed_data.json\"\n",
        "with open(output_file, 'w', encoding='utf-8') as f:\n",
        "    json.dump(file_based_results, f, ensure_ascii=False, indent=4)\n",
        "\n",
        "print(f\"Results saved to {output_file}\")\n"
      ]
    },
    {
      "cell_type": "code",
      "source": [
        "import json\n",
        "from datasets import Dataset\n",
        "\n",
        "# Load the data (assuming the results are stored in the JSON file)\n",
        "with open(\"/content/drive/MyDrive/nlp_project_data/processed_data.json\", \"r\", encoding=\"utf-8\") as f:\n",
        "    results = json.load(f)\n",
        "\n",
        "data = []\n",
        "for file_path, details in results.items():\n",
        "    # Extract the input (abstract)\n",
        "    input_text = details.get('abstract', '')\n",
        "    if isinstance(input_text, list):\n",
        "        input_text = \". \".join(input_text)\n",
        "\n",
        "    # Extract and join subjects into a single string\n",
        "    subjects = details.get('subject', [])\n",
        "\n",
        "    output_text = ', '.join(subjects)\n",
        "\n",
        "    # Add validated entry\n",
        "    data.append({'input': input_text, 'output': output_text})\n",
        "\n",
        "\n",
        "# Create a dataset\n",
        "if data:  # Ensure data is non-empty\n",
        "    dataset = Dataset.from_dict({\n",
        "        \"input\": [entry['input'] for entry in data],\n",
        "        \"output\": [entry['output'] for entry in data]\n",
        "    })\n",
        "else:\n",
        "    raise ValueError(\"No valid data to create the dataset.\")\n"
      ],
      "metadata": {
        "id": "e_9CbGLerlfI"
      },
      "execution_count": 4,
      "outputs": []
    },
    {
      "cell_type": "code",
      "source": [
        "dataset"
      ],
      "metadata": {
        "colab": {
          "base_uri": "https://localhost:8080/"
        },
        "id": "mdMy_gc7uygp",
        "outputId": "3b8bfe0f-4037-4b9c-a299-967cc0962da8"
      },
      "execution_count": 5,
      "outputs": [
        {
          "output_type": "execute_result",
          "data": {
            "text/plain": [
              "Dataset({\n",
              "    features: ['input', 'output'],\n",
              "    num_rows: 2081\n",
              "})"
            ]
          },
          "metadata": {},
          "execution_count": 5
        }
      ]
    },
    {
      "cell_type": "code",
      "source": [
        "from transformers import T5Tokenizer\n",
        "\n",
        "# Load T5 tokenizer\n",
        "tokenizer = T5Tokenizer.from_pretrained(\"t5-small\")\n",
        "\n",
        "# Tokenize the dataset\n",
        "def tokenize_function(examples):\n",
        "    # T5 expects the input to be formatted as \"task: input_text\"\n",
        "    inputs = [f\"tagging: {text}\" for text in examples[\"input\"]]\n",
        "    targets = examples[\"output\"]\n",
        "    model_inputs = tokenizer(inputs, max_length=1024, truncation=True, padding=\"max_length\")\n",
        "    labels = tokenizer(targets, max_length=128, truncation=True, padding=\"max_length\")\n",
        "    model_inputs[\"labels\"] = labels[\"input_ids\"]\n",
        "    return model_inputs\n",
        "\n",
        "# Apply the tokenization\n",
        "tokenized_dataset = dataset.map(tokenize_function, batched=True)\n"
      ],
      "metadata": {
        "colab": {
          "base_uri": "https://localhost:8080/",
          "height": 190,
          "referenced_widgets": [
            "853b4355ebb541368fbecac6567711c7",
            "3758b2ce029d4160b9fad467693fec6d",
            "4c96a9987d9e4bad86d9ec94d7825365",
            "1a43123c688945f4a2b1170137219385",
            "8c2c60f41064494eacf7436a1407bf14",
            "5173fec55b6a4711b3371e91f3c88243",
            "997e19247f244bb7bac09874513192bf",
            "69127161378f4ff7be19d7dafa4d538f",
            "fc561e4ef27e48ec8eb48b2093bd4e78",
            "0ca8e2f676ef4af68bd96b3afb6dddfd",
            "3356c439a3254307a692424f322e602e"
          ]
        },
        "id": "aWO7GDTHunlF",
        "outputId": "d28c0e41-267f-462e-f50a-904863f4a9d5"
      },
      "execution_count": 6,
      "outputs": [
        {
          "output_type": "stream",
          "name": "stderr",
          "text": [
            "/usr/local/lib/python3.10/dist-packages/huggingface_hub/utils/_auth.py:94: UserWarning: \n",
            "The secret `HF_TOKEN` does not exist in your Colab secrets.\n",
            "To authenticate with the Hugging Face Hub, create a token in your settings tab (https://huggingface.co/settings/tokens), set it as secret in your Google Colab and restart your session.\n",
            "You will be able to reuse this secret in all of your notebooks.\n",
            "Please note that authentication is recommended but still optional to access public models or datasets.\n",
            "  warnings.warn(\n",
            "You are using the default legacy behaviour of the <class 'transformers.models.t5.tokenization_t5.T5Tokenizer'>. This is expected, and simply means that the `legacy` (previous) behavior will be used so nothing changes for you. If you want to use the new behaviour, set `legacy=False`. This should only be set if you understand what it means, and thoroughly read the reason why this was added as explained in https://github.com/huggingface/transformers/pull/24565\n"
          ]
        },
        {
          "output_type": "display_data",
          "data": {
            "text/plain": [
              "Map:   0%|          | 0/2081 [00:00<?, ? examples/s]"
            ],
            "application/vnd.jupyter.widget-view+json": {
              "version_major": 2,
              "version_minor": 0,
              "model_id": "853b4355ebb541368fbecac6567711c7"
            }
          },
          "metadata": {}
        }
      ]
    },
    {
      "cell_type": "code",
      "source": [
        "from transformers import T5ForConditionalGeneration, T5Tokenizer, Trainer, TrainingArguments\n",
        "import torch\n",
        "import os\n",
        "import torch\n",
        "import numpy as np\n",
        "from transformers import T5ForConditionalGeneration, T5Tokenizer, Trainer, TrainingArguments\n",
        "from sklearn.metrics import f1_score\n",
        "from rouge import Rouge\n",
        "import time\n",
        "\n",
        "# Check if GPU is available and set device\n",
        "device = \"cuda\" if torch.cuda.is_available() else \"cpu\"\n",
        "print(f\"Using device: {device}\")\n",
        "\n",
        "# Load tokenizer and model\n",
        "tokenizer = T5Tokenizer.from_pretrained(\"t5-small\")\n",
        "model = T5ForConditionalGeneration.from_pretrained(\"t5-small\").to(device)  # Move model to GPU\n",
        "\n",
        "checkpoint_dir = \"/content/drive/MyDrive/nlp_project_data/model_t5_small_v1/t5_model_output\"\n",
        "\n",
        "# Find the latest checkpoint\n",
        "def find_latest_checkpoint(checkpoint_dir):\n",
        "    checkpoints = [d for d in os.listdir(checkpoint_dir) if d.startswith('checkpoint-')]\n",
        "    if not checkpoints:\n",
        "        return None\n",
        "    latest_checkpoint = max(checkpoints, key=lambda x: int(x.split('-')[1]))\n",
        "    return os.path.join(checkpoint_dir, latest_checkpoint)\n",
        "\n",
        "latest_checkpoint = find_latest_checkpoint(checkpoint_dir)\n",
        "\n",
        "# Define training arguments\n",
        "training_args = TrainingArguments(\n",
        "    output_dir=\"/content/drive/MyDrive/nlp_project_data/model_t5_small_v1/t5_model_output\",  # Output directory for model checkpoints\n",
        "    evaluation_strategy=\"epoch\",\n",
        "    learning_rate=2e-5,\n",
        "    per_device_train_batch_size=16,  # Reduce batch size if memory issues arise\n",
        "    per_device_eval_batch_size=16,\n",
        "    num_train_epochs=10,\n",
        "    weight_decay=0.01,\n",
        "    fp16=True,  # Enable mixed precision for faster training on T4 GPUs\n",
        "    save_strategy=\"epoch\",  # Save model at each epoch\n",
        "    logging_dir=\"/content/drive/MyDrive/nlp_project_data/model_t5_small_v1/logs\",  # Logging directory\n",
        "    logging_steps=50,  # Adjust as needed\n",
        "    resume_from_checkpoint=latest_checkpoint if latest_checkpoint else None,\n",
        ")\n",
        "\n",
        "def compute_performance_metrics(eval_pred):\n",
        "    predictions, labels = eval_pred\n",
        "\n",
        "    # Decode predictions and labels\n",
        "    decoded_preds = tokenizer.batch_decode(predictions, skip_special_tokens=True)\n",
        "    decoded_labels = tokenizer.batch_decode(labels, skip_special_tokens=True)\n",
        "\n",
        "    # F1 Score (using exact match as a simple baseline)\n",
        "    f1 = f1_score([1 if pred == label else 0 for pred, label in zip(decoded_preds, decoded_labels)],\n",
        "                  [1] * len(decoded_preds),\n",
        "                  average='binary')\n",
        "\n",
        "    # Semantic Matching using ROUGE\n",
        "    rouge = Rouge()\n",
        "    rouge_scores = rouge.get_scores(decoded_preds, decoded_labels, avg=True)\n",
        "    semantic_accuracy = rouge_scores['rouge-l']['f']\n",
        "\n",
        "    # Computational Efficiency Metrics\n",
        "    start_time = time.time()\n",
        "    # Simulate inference on a batch\n",
        "    batch_size = 16\n",
        "    sample_inputs = tokenizer(decoded_preds[:batch_size], return_tensors=\"pt\", padding=True).to(device)\n",
        "    with torch.no_grad():\n",
        "        _ = model.generate(**sample_inputs, max_length=50)\n",
        "    inference_time = time.time() - start_time\n",
        "\n",
        "    # Memory usage\n",
        "    memory_allocated = torch.cuda.memory_allocated(device) / (1024 * 1024)  # in MB\n",
        "\n",
        "    return {\n",
        "        'f1_score': f1,\n",
        "        'semantic_accuracy': semantic_accuracy,\n",
        "        'inference_batch_time': inference_time,\n",
        "        'memory_allocated_mb': memory_allocated\n",
        "    }\n",
        "\n",
        "# Initialize Trainer\n",
        "trainer = Trainer(\n",
        "    model=model,\n",
        "    args=training_args,\n",
        "    train_dataset=tokenized_dataset,\n",
        "    eval_dataset=tokenized_dataset,  # Use a validation set if available\n",
        "    compute_metrics=compute_performance_metrics\n",
        ")\n",
        "\n",
        "# Train the model\n",
        "trainer.train()\n"
      ],
      "metadata": {
        "colab": {
          "base_uri": "https://localhost:8080/",
          "height": 304
        },
        "id": "TiSOLCBKu_V1",
        "outputId": "3ca06140-2e5a-403e-9bb3-6f5531753bf7"
      },
      "execution_count": null,
      "outputs": [
        {
          "output_type": "stream",
          "name": "stdout",
          "text": [
            "Using device: cuda\n"
          ]
        },
        {
          "output_type": "stream",
          "name": "stderr",
          "text": [
            "/usr/local/lib/python3.10/dist-packages/transformers/training_args.py:1568: FutureWarning: `evaluation_strategy` is deprecated and will be removed in version 4.46 of 🤗 Transformers. Use `eval_strategy` instead\n",
            "  warnings.warn(\n",
            "\u001b[34m\u001b[1mwandb\u001b[0m: \u001b[33mWARNING\u001b[0m The `run_name` is currently set to the same value as `TrainingArguments.output_dir`. If this was not intended, please specify a different run name by setting the `TrainingArguments.run_name` parameter.\n",
            "\u001b[34m\u001b[1mwandb\u001b[0m: Using wandb-core as the SDK backend.  Please refer to https://wandb.me/wandb-core for more information.\n",
            "\u001b[34m\u001b[1mwandb\u001b[0m: Currently logged in as: \u001b[33mi211700\u001b[0m (\u001b[33mi211700-fast\u001b[0m). Use \u001b[1m`wandb login --relogin`\u001b[0m to force relogin\n"
          ]
        },
        {
          "output_type": "display_data",
          "data": {
            "text/plain": [
              "<IPython.core.display.HTML object>"
            ],
            "text/html": [
              "Tracking run with wandb version 0.18.7"
            ]
          },
          "metadata": {}
        },
        {
          "output_type": "display_data",
          "data": {
            "text/plain": [
              "<IPython.core.display.HTML object>"
            ],
            "text/html": [
              "Run data is saved locally in <code>/content/wandb/run-20241212_020707-l186wyvi</code>"
            ]
          },
          "metadata": {}
        },
        {
          "output_type": "display_data",
          "data": {
            "text/plain": [
              "<IPython.core.display.HTML object>"
            ],
            "text/html": [
              "Syncing run <strong><a href='https://wandb.ai/i211700-fast/huggingface/runs/l186wyvi' target=\"_blank\">/content/drive/MyDrive/nlp_project_data/model_t5_small_v1/t5_model_output</a></strong> to <a href='https://wandb.ai/i211700-fast/huggingface' target=\"_blank\">Weights & Biases</a> (<a href='https://wandb.me/developer-guide' target=\"_blank\">docs</a>)<br/>"
            ]
          },
          "metadata": {}
        },
        {
          "output_type": "display_data",
          "data": {
            "text/plain": [
              "<IPython.core.display.HTML object>"
            ],
            "text/html": [
              " View project at <a href='https://wandb.ai/i211700-fast/huggingface' target=\"_blank\">https://wandb.ai/i211700-fast/huggingface</a>"
            ]
          },
          "metadata": {}
        },
        {
          "output_type": "display_data",
          "data": {
            "text/plain": [
              "<IPython.core.display.HTML object>"
            ],
            "text/html": [
              " View run at <a href='https://wandb.ai/i211700-fast/huggingface/runs/l186wyvi' target=\"_blank\">https://wandb.ai/i211700-fast/huggingface/runs/l186wyvi</a>"
            ]
          },
          "metadata": {}
        },
        {
          "output_type": "stream",
          "name": "stderr",
          "text": [
            "Passing a tuple of `past_key_values` is deprecated and will be removed in Transformers v4.48.0. You should pass an instance of `EncoderDecoderCache` instead, e.g. `past_key_values=EncoderDecoderCache.from_legacy_cache(past_key_values)`.\n"
          ]
        },
        {
          "output_type": "display_data",
          "data": {
            "text/plain": [
              "<IPython.core.display.HTML object>"
            ],
            "text/html": [
              "\n",
              "    <div>\n",
              "      \n",
              "      <progress value='76' max='1310' style='width:300px; height:20px; vertical-align: middle;'></progress>\n",
              "      [  76/1310 01:01 < 17:13, 1.19 it/s, Epoch 0.57/10]\n",
              "    </div>\n",
              "    <table border=\"1\" class=\"dataframe\">\n",
              "  <thead>\n",
              " <tr style=\"text-align: left;\">\n",
              "      <th>Epoch</th>\n",
              "      <th>Training Loss</th>\n",
              "      <th>Validation Loss</th>\n",
              "    </tr>\n",
              "  </thead>\n",
              "  <tbody>\n",
              "  </tbody>\n",
              "</table><p>"
            ]
          },
          "metadata": {}
        }
      ]
    },
    {
      "cell_type": "code",
      "source": [
        "# Save the fine-tuned model\n",
        "model.save_pretrained(\"/content/drive/MyDrive/nlp_project_data/model_t5_small_v1/fine_tuned_t5_model_v2\")\n",
        "tokenizer.save_pretrained(\"/content/drive/MyDrive/nlp_project_data/model_t5_small_v1/fine_tuned_t5_model_v2\")"
      ],
      "metadata": {
        "id": "jd2wxh5evC4F"
      },
      "execution_count": null,
      "outputs": []
    },
    {
      "cell_type": "code",
      "source": [
        "from transformers import T5Tokenizer, T5ForConditionalGeneration\n",
        "\n",
        "# Load the fine-tuned model and tokenizer\n",
        "model_path = \"/content/drive/MyDrive/nlp_project_data/model_t5_small_v1/fine_tuned_t5_model_v2\"\n",
        "tokenizer = T5Tokenizer.from_pretrained(model_path)\n",
        "model = T5ForConditionalGeneration.from_pretrained(model_path)\n"
      ],
      "metadata": {
        "id": "3yPdCPxR0l3p"
      },
      "execution_count": 8,
      "outputs": []
    },
    {
      "cell_type": "code",
      "source": [
        "# Ensure the model is on the same device (GPU if available)\n",
        "device = \"cuda\" if torch.cuda.is_available() else \"cpu\"\n",
        "model.to(device)\n",
        "\n",
        "# Function to test the model on a single abstract\n",
        "def generate_subjects(abstract):\n",
        "    # Preprocess the input\n",
        "    input_text = f\"tagging: {abstract}\"\n",
        "    input_ids = tokenizer(input_text, return_tensors=\"pt\", max_length=512, truncation=True).input_ids.to(device)\n",
        "\n",
        "    # Generate predictions\n",
        "    outputs = model.generate(input_ids, max_length=64, num_beams=4, early_stopping=True)\n",
        "\n",
        "    # Decode the output\n",
        "    generated_subjects = tokenizer.decode(outputs[0], skip_special_tokens=True)\n",
        "    return generated_subjects\n",
        "\n",
        "# Example abstract for testing\n",
        "test_abstract = \"With the growing reliance on renewable energy sources such as wind and solar, power grid operators face unprecedented challenges in ensuring stability and reliability. This paper explores advanced machine learning techniques, including reinforcement learning and neural networks, to optimize energy distribution in smart grids. The study integrates historical weather data, energy consumption patterns, and grid topology to predict demand surges and adjust supply in real-time. Additionally, it examines the use of blockchain for decentralized energy trading, ensuring transparency and security. The findings highlight significant improvements in grid efficiency and reduction in carbon emissions, paving the way for sustainable energy management systems.\"\n",
        "\n",
        "# Generate subjects\n",
        "predicted_subjects = generate_subjects(test_abstract)\n",
        "print(\"Abstract:\", test_abstract)\n",
        "print(\"Predicted Subjects:\", predicted_subjects)"
      ],
      "metadata": {
        "colab": {
          "base_uri": "https://localhost:8080/"
        },
        "id": "lVZfIqYN2wFp",
        "outputId": "356489a5-aed7-4f3a-ab68-670a9b2b8fe8"
      },
      "execution_count": 12,
      "outputs": [
        {
          "output_type": "stream",
          "name": "stdout",
          "text": [
            "Abstract: With the growing reliance on renewable energy sources such as wind and solar, power grid operators face unprecedented challenges in ensuring stability and reliability. This paper explores advanced machine learning techniques, including reinforcement learning and neural networks, to optimize energy distribution in smart grids. The study integrates historical weather data, energy consumption patterns, and grid topology to predict demand surges and adjust supply in real-time. Additionally, it examines the use of blockchain for decentralized energy trading, ensuring transparency and security. The findings highlight significant improvements in grid efficiency and reduction in carbon emissions, paving the way for sustainable energy management systems.\n",
            "Predicted Subjects: Elektrizität, Stromversorgung, Stromversorgung\n"
          ]
        }
      ]
    },
    {
      "cell_type": "code",
      "source": [
        "import matplotlib.pyplot as plt\n",
        "import pandas as pd\n",
        "\n",
        "# Retrieve the training history\n",
        "training_history = trainer.state.log_history\n",
        "\n",
        "# Convert to DataFrame for easier manipulation\n",
        "history_df = pd.DataFrame(training_history)\n",
        "\n",
        "# Plot training loss\n",
        "plt.figure(figsize=(10, 5))\n",
        "plt.subplot(1, 2, 1)\n",
        "plt.plot(history_df['epoch'], history_df['loss'], label='Training Loss')\n",
        "plt.title('Training Loss over Epochs')\n",
        "plt.xlabel('Epoch')\n",
        "plt.ylabel('Loss')\n",
        "plt.legend()\n",
        "\n",
        "# Plot evaluation metrics (if available)\n",
        "plt.subplot(1, 2, 2)\n",
        "if 'eval_loss' in history_df.columns:\n",
        "    plt.plot(history_df['epoch'], history_df['eval_loss'], label='Evaluation Loss', color='red')\n",
        "    plt.title('Evaluation Loss over Epochs')\n",
        "    plt.xlabel('Epoch')\n",
        "    plt.ylabel('Loss')\n",
        "    plt.legend()\n",
        "\n",
        "plt.tight_layout()\n",
        "plt.show()\n",
        "\n",
        "# If you want to save the plot\n",
        "plt.savefig('/content/drive/MyDrive/nlp_project_data/model_t5_small_v1/training_evaluation_plot.png')\n",
        "\n",
        "# Print out key metrics\n",
        "print(\"Training Summary:\")\n",
        "for column in history_df.columns:\n",
        "    if 'loss' in column or 'metric' in column:\n",
        "        print(f\"{column}: {history_df[column].tolist()}\")"
      ],
      "metadata": {
        "colab": {
          "base_uri": "https://localhost:8080/",
          "height": 614
        },
        "id": "kC9BOXb4Y1sN",
        "outputId": "b69c78c4-d70a-41b0-b970-f4340462f325"
      },
      "execution_count": 10,
      "outputs": [
        {
          "output_type": "display_data",
          "data": {
            "text/plain": [
              "<Figure size 1000x500 with 2 Axes>"
            ],
            "image/png": "[encoded data removed]"
          },
          "metadata": {}
        },
        {
          "output_type": "stream",
          "name": "stdout",
          "text": [
            "Training Summary:\n",
            "loss: [13.6075, 1.9438, nan, 0.7764, 0.6274, 0.5483, nan, 0.5086, 0.4775, nan, 0.4429, 0.4425, 0.4334, nan, 0.4114, 0.3899, 0.3887, nan, 0.3641, 0.3783, nan, 0.3542, 0.3517, 0.3616, nan, 0.3603, 0.3472, nan, 0.3459, 0.3354, 0.3506, nan, 0.3326, 0.3408, 0.3275, nan, 0.3148, 0.3355, nan, 0.3232, 0.3178, 0.3308, nan, 0.3205, 0.3201, 0.3162, nan, 0.3256, 0.3237, nan, 0.3178, 0.3065, 0.3263, nan, 0.3162, 0.3132, nan, 0.3141, 0.3206, 0.3082, nan, 0.3033, 0.3082, 0.3157, nan, 0.322, 0.312, nan, 0.3013, 0.3037, 0.3187, nan, 0.3077, 0.3136, 0.2976, nan, 0.3092, 0.3123, nan, 0.3012, 0.3112, 0.2936, nan, 0.3082, 0.3017, nan, 0.3063, 0.3001, 0.3054, nan, nan]\n",
            "eval_loss: [nan, nan, 0.5769282579421997, nan, nan, nan, 0.4402593970298767, nan, nan, 0.37987229228019714, nan, nan, nan, 0.34005147218704224, nan, nan, nan, 0.3168869614601135, nan, nan, 0.30388474464416504, nan, nan, nan, 0.2979676425457001, nan, nan, 0.29254981875419617, nan, nan, nan, 0.288296103477478, nan, nan, nan, 0.28476595878601074, nan, nan, 0.2816643714904785, nan, nan, nan, 0.2788758873939514, nan, nan, nan, 0.27639222145080566, nan, nan, 0.27420663833618164, nan, nan, nan, 0.27233660221099854, nan, nan, 0.27059459686279297, nan, nan, nan, 0.26920756697654724, nan, nan, nan, 0.26800787448883057, nan, nan, 0.26695069670677185, nan, nan, nan, 0.2660103440284729, nan, nan, nan, 0.26532143354415894, nan, nan, 0.2647336423397064, nan, nan, nan, 0.2643391788005829, nan, nan, 0.26409435272216797, nan, nan, nan, 0.263998806476593, nan]\n",
            "train_loss: [nan, nan, nan, nan, nan, nan, nan, nan, nan, nan, nan, nan, nan, nan, nan, nan, nan, nan, nan, nan, nan, nan, nan, nan, nan, nan, nan, nan, nan, nan, nan, nan, nan, nan, nan, nan, nan, nan, nan, nan, nan, nan, nan, nan, nan, nan, nan, nan, nan, nan, nan, nan, nan, nan, nan, nan, nan, nan, nan, nan, nan, nan, nan, nan, nan, nan, nan, nan, nan, nan, nan, nan, nan, nan, nan, nan, nan, nan, nan, nan, nan, nan, nan, nan, nan, nan, nan, nan, nan, nan, 0.5788764088754436]\n"
          ]
        },
        {
          "output_type": "display_data",
          "data": {
            "text/plain": [
              "<Figure size 640x480 with 0 Axes>"
            ]
          },
          "metadata": {}
        }
      ]
    },
    {
      "cell_type": "code",
      "source": [
        "import os\n",
        "os.kill(os.getpid(), 9)"
      ],
      "metadata": {
        "id": "OFS8lTG46uKE"
      },
      "execution_count": null,
      "outputs": []
    }
  ],
  "metadata": {
    "colab": {
      "provenance": [],
      "gpuType": "T4"
    },
    "kernelspec": {
      "display_name": "Python 3",
      "name": "python3"
    },
    "language_info": {
      "name": "python"
    },
    "accelerator": "GPU",
    "widgets": {
      "application/vnd.jupyter.widget-state+json": {
        "853b4355ebb541368fbecac6567711c7": {
          "model_module": "@jupyter-widgets/controls",
          "model_name": "HBoxModel",
          "model_module_version": "1.5.0",
          "state": {
            "_dom_classes": [],
            "_model_module": "@jupyter-widgets/controls",
            "_model_module_version": "1.5.0",
            "_model_name": "HBoxModel",
            "_view_count": null,
            "_view_module": "@jupyter-widgets/controls",
            "_view_module_version": "1.5.0",
            "_view_name": "HBoxView",
            "box_style": "",
            "children": [
              "IPY_MODEL_3758b2ce029d4160b9fad467693fec6d",
              "IPY_MODEL_4c96a9987d9e4bad86d9ec94d7825365",
              "IPY_MODEL_1a43123c688945f4a2b1170137219385"
            ],
            "layout": "IPY_MODEL_8c2c60f41064494eacf7436a1407bf14"
          }
        },
        "3758b2ce029d4160b9fad467693fec6d": {
          "model_module": "@jupyter-widgets/controls",
          "model_name": "HTMLModel",
          "model_module_version": "1.5.0",
          "state": {
            "_dom_classes": [],
            "_model_module": "@jupyter-widgets/controls",
            "_model_module_version": "1.5.0",
            "_model_name": "HTMLModel",
            "_view_count": null,
            "_view_module": "@jupyter-widgets/controls",
            "_view_module_version": "1.5.0",
            "_view_name": "HTMLView",
            "description": "",
            "description_tooltip": null,
            "layout": "IPY_MODEL_5173fec55b6a4711b3371e91f3c88243",
            "placeholder": "​",
            "style": "IPY_MODEL_997e19247f244bb7bac09874513192bf",
            "value": "Map: 100%"
          }
        },
        "4c96a9987d9e4bad86d9ec94d7825365": {
          "model_module": "@jupyter-widgets/controls",
          "model_name": "FloatProgressModel",
          "model_module_version": "1.5.0",
          "state": {
            "_dom_classes": [],
            "_model_module": "@jupyter-widgets/controls",
            "_model_module_version": "1.5.0",
            "_model_name": "FloatProgressModel",
            "_view_count": null,
            "_view_module": "@jupyter-widgets/controls",
            "_view_module_version": "1.5.0",
            "_view_name": "ProgressView",
            "bar_style": "success",
            "description": "",
            "description_tooltip": null,
            "layout": "IPY_MODEL_69127161378f4ff7be19d7dafa4d538f",
            "max": 2081,
            "min": 0,
            "orientation": "horizontal",
            "style": "IPY_MODEL_fc561e4ef27e48ec8eb48b2093bd4e78",
            "value": 2081
          }
        },
        "1a43123c688945f4a2b1170137219385": {
          "model_module": "@jupyter-widgets/controls",
          "model_name": "HTMLModel",
          "model_module_version": "1.5.0",
          "state": {
            "_dom_classes": [],
            "_model_module": "@jupyter-widgets/controls",
            "_model_module_version": "1.5.0",
            "_model_name": "HTMLModel",
            "_view_count": null,
            "_view_module": "@jupyter-widgets/controls",
            "_view_module_version": "1.5.0",
            "_view_name": "HTMLView",
            "description": "",
            "description_tooltip": null,
            "layout": "IPY_MODEL_0ca8e2f676ef4af68bd96b3afb6dddfd",
            "placeholder": "​",
            "style": "IPY_MODEL_3356c439a3254307a692424f322e602e",
            "value": " 2081/2081 [00:09&lt;00:00, 232.13 examples/s]"
          }
        },
        "8c2c60f41064494eacf7436a1407bf14": {
          "model_module": "@jupyter-widgets/base",
          "model_name": "LayoutModel",
          "model_module_version": "1.2.0",
          "state": {
            "_model_module": "@jupyter-widgets/base",
            "_model_module_version": "1.2.0",
            "_model_name": "LayoutModel",
            "_view_count": null,
            "_view_module": "@jupyter-widgets/base",
            "_view_module_version": "1.2.0",
            "_view_name": "LayoutView",
            "align_content": null,
            "align_items": null,
            "align_self": null,
            "border": null,
            "bottom": null,
            "display": null,
            "flex": null,
            "flex_flow": null,
            "grid_area": null,
            "grid_auto_columns": null,
            "grid_auto_flow": null,
            "grid_auto_rows": null,
            "grid_column": null,
            "grid_gap": null,
            "grid_row": null,
            "grid_template_areas": null,
            "grid_template_columns": null,
            "grid_template_rows": null,
            "height": null,
            "justify_content": null,
            "justify_items": null,
            "left": null,
            "margin": null,
            "max_height": null,
            "max_width": null,
            "min_height": null,
            "min_width": null,
            "object_fit": null,
            "object_position": null,
            "order": null,
            "overflow": null,
            "overflow_x": null,
            "overflow_y": null,
            "padding": null,
            "right": null,
            "top": null,
            "visibility": null,
            "width": null
          }
        },
        "5173fec55b6a4711b3371e91f3c88243": {
          "model_module": "@jupyter-widgets/base",
          "model_name": "LayoutModel",
          "model_module_version": "1.2.0",
          "state": {
            "_model_module": "@jupyter-widgets/base",
            "_model_module_version": "1.2.0",
            "_model_name": "LayoutModel",
            "_view_count": null,
            "_view_module": "@jupyter-widgets/base",
            "_view_module_version": "1.2.0",
            "_view_name": "LayoutView",
            "align_content": null,
            "align_items": null,
            "align_self": null,
            "border": null,
            "bottom": null,
            "display": null,
            "flex": null,
            "flex_flow": null,
            "grid_area": null,
            "grid_auto_columns": null,
            "grid_auto_flow": null,
            "grid_auto_rows": null,
            "grid_column": null,
            "grid_gap": null,
            "grid_row": null,
            "grid_template_areas": null,
            "grid_template_columns": null,
            "grid_template_rows": null,
            "height": null,
            "justify_content": null,
            "justify_items": null,
            "left": null,
            "margin": null,
            "max_height": null,
            "max_width": null,
            "min_height": null,
            "min_width": null,
            "object_fit": null,
            "object_position": null,
            "order": null,
            "overflow": null,
            "overflow_x": null,
            "overflow_y": null,
            "padding": null,
            "right": null,
            "top": null,
            "visibility": null,
            "width": null
          }
        },
        "997e19247f244bb7bac09874513192bf": {
          "model_module": "@jupyter-widgets/controls",
          "model_name": "DescriptionStyleModel",
          "model_module_version": "1.5.0",
          "state": {
            "_model_module": "@jupyter-widgets/controls",
            "_model_module_version": "1.5.0",
            "_model_name": "DescriptionStyleModel",
            "_view_count": null,
            "_view_module": "@jupyter-widgets/base",
            "_view_module_version": "1.2.0",
            "_view_name": "StyleView",
            "description_width": ""
          }
        },
        "69127161378f4ff7be19d7dafa4d538f": {
          "model_module": "@jupyter-widgets/base",
          "model_name": "LayoutModel",
          "model_module_version": "1.2.0",
          "state": {
            "_model_module": "@jupyter-widgets/base",
            "_model_module_version": "1.2.0",
            "_model_name": "LayoutModel",
            "_view_count": null,
            "_view_module": "@jupyter-widgets/base",
            "_view_module_version": "1.2.0",
            "_view_name": "LayoutView",
            "align_content": null,
            "align_items": null,
            "align_self": null,
            "border": null,
            "bottom": null,
            "display": null,
            "flex": null,
            "flex_flow": null,
            "grid_area": null,
            "grid_auto_columns": null,
            "grid_auto_flow": null,
            "grid_auto_rows": null,
            "grid_column": null,
            "grid_gap": null,
            "grid_row": null,
            "grid_template_areas": null,
            "grid_template_columns": null,
            "grid_template_rows": null,
            "height": null,
            "justify_content": null,
            "justify_items": null,
            "left": null,
            "margin": null,
            "max_height": null,
            "max_width": null,
            "min_height": null,
            "min_width": null,
            "object_fit": null,
            "object_position": null,
            "order": null,
            "overflow": null,
            "overflow_x": null,
            "overflow_y": null,
            "padding": null,
            "right": null,
            "top": null,
            "visibility": null,
            "width": null
          }
        },
        "fc561e4ef27e48ec8eb48b2093bd4e78": {
          "model_module": "@jupyter-widgets/controls",
          "model_name": "ProgressStyleModel",
          "model_module_version": "1.5.0",
          "state": {
            "_model_module": "@jupyter-widgets/controls",
            "_model_module_version": "1.5.0",
            "_model_name": "ProgressStyleModel",
            "_view_count": null,
            "_view_module": "@jupyter-widgets/base",
            "_view_module_version": "1.2.0",
            "_view_name": "StyleView",
            "bar_color": null,
            "description_width": ""
          }
        },
        "0ca8e2f676ef4af68bd96b3afb6dddfd": {
          "model_module": "@jupyter-widgets/base",
          "model_name": "LayoutModel",
          "model_module_version": "1.2.0",
          "state": {
            "_model_module": "@jupyter-widgets/base",
            "_model_module_version": "1.2.0",
            "_model_name": "LayoutModel",
            "_view_count": null,
            "_view_module": "@jupyter-widgets/base",
            "_view_module_version": "1.2.0",
            "_view_name": "LayoutView",
            "align_content": null,
            "align_items": null,
            "align_self": null,
            "border": null,
            "bottom": null,
            "display": null,
            "flex": null,
            "flex_flow": null,
            "grid_area": null,
            "grid_auto_columns": null,
            "grid_auto_flow": null,
            "grid_auto_rows": null,
            "grid_column": null,
            "grid_gap": null,
            "grid_row": null,
            "grid_template_areas": null,
            "grid_template_columns": null,
            "grid_template_rows": null,
            "height": null,
            "justify_content": null,
            "justify_items": null,
            "left": null,
            "margin": null,
            "max_height": null,
            "max_width": null,
            "min_height": null,
            "min_width": null,
            "object_fit": null,
            "object_position": null,
            "order": null,
            "overflow": null,
            "overflow_x": null,
            "overflow_y": null,
            "padding": null,
            "right": null,
            "top": null,
            "visibility": null,
            "width": null
          }
        },
        "3356c439a3254307a692424f322e602e": {
          "model_module": "@jupyter-widgets/controls",
          "model_name": "DescriptionStyleModel",
          "model_module_version": "1.5.0",
          "state": {
            "_model_module": "@jupyter-widgets/controls",
            "_model_module_version": "1.5.0",
            "_model_name": "DescriptionStyleModel",
            "_view_count": null,
            "_view_module": "@jupyter-widgets/base",
            "_view_module_version": "1.2.0",
            "_view_name": "StyleView",
            "description_width": ""
          }
        }
      }
    }
  },
  "nbformat": 4,
  "nbformat_minor": 0
}